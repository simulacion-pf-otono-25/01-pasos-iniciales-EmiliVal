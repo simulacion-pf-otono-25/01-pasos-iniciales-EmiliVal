{
 "cells": [
  {
   "cell_type": "code",
   "execution_count": null,
   "id": "08625137",
   "metadata": {
    "vscode": {
     "languageId": "plaintext"
    }
   },
   "outputs": [],
   "source": [
    "print('hello')"
   ]
  }
 ],
 "metadata": {
  "language_info": {
   "name": "python"
  }
 },
 "nbformat": 4,
 "nbformat_minor": 5
}
